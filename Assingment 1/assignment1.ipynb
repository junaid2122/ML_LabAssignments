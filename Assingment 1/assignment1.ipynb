{
 "cells": [
  {
   "metadata": {},
   "cell_type": "markdown",
   "source": [
    "# Data Operations using R/Python\n",
    "\n",
    "## Operations to Perform:\n",
    "1. **Read data from different formats** (like CSV, XLS)\n",
    "2. **Find Shape of Data**\n",
    "3. **Find Missing Values**\n",
    "4. **Find Data Type of Each Column**\n",
    "5. **Finding Out Zeros**\n",
    "6. **Indexing and Selecting Data**, Sorting Data\n",
    "7. **Describe Attributes of Data**:\n",
    "   - Checking data types of each column\n",
    "8. **Counting Unique Values of Data**\n",
    "9. **Format of Each Column**\n",
    "10. **Converting Variable Data Type** (e.g., from long to short, and vice versa)\n"
   ],
   "id": "a7a66b02f5bd3032"
  },
  {
   "metadata": {
    "ExecuteTime": {
     "end_time": "2025-01-16T09:45:03.058765Z",
     "start_time": "2025-01-16T09:45:02.302669Z"
    }
   },
   "cell_type": "code",
   "source": "import pandas as pd",
   "id": "bc22ff5edcc8b832",
   "outputs": [],
   "execution_count": 1
  },
  {
   "metadata": {
    "ExecuteTime": {
     "end_time": "2025-01-16T09:48:26.378084Z",
     "start_time": "2025-01-16T09:48:26.356358Z"
    }
   },
   "cell_type": "code",
   "source": [
    "# a) read data from different formats (like csv, xls)\n",
    "df = pd.read_csv(\"Customers - Customers.csv\")\n",
    "df.head()"
   ],
   "id": "d48e7e139abe3abe",
   "outputs": [
    {
     "data": {
      "text/plain": [
       "   CustomerID  Gender  Age  Annual Income ($)  Spending Score (1-100)  \\\n",
       "0           1    Male   19              15000                      39   \n",
       "1           2    Male   21              35000                      81   \n",
       "2           3  Female   20              86000                       6   \n",
       "3           4  Female   23              59000                      77   \n",
       "4           5  Female   31              38000                      40   \n",
       "\n",
       "      Profession  Work Experience  Family Size  \n",
       "0     Healthcare                1            4  \n",
       "1       Engineer                3            3  \n",
       "2       Engineer                1            1  \n",
       "3         Lawyer                0            2  \n",
       "4  Entertainment                2            6  "
      ],
      "text/html": [
       "<div>\n",
       "<style scoped>\n",
       "    .dataframe tbody tr th:only-of-type {\n",
       "        vertical-align: middle;\n",
       "    }\n",
       "\n",
       "    .dataframe tbody tr th {\n",
       "        vertical-align: top;\n",
       "    }\n",
       "\n",
       "    .dataframe thead th {\n",
       "        text-align: right;\n",
       "    }\n",
       "</style>\n",
       "<table border=\"1\" class=\"dataframe\">\n",
       "  <thead>\n",
       "    <tr style=\"text-align: right;\">\n",
       "      <th></th>\n",
       "      <th>CustomerID</th>\n",
       "      <th>Gender</th>\n",
       "      <th>Age</th>\n",
       "      <th>Annual Income ($)</th>\n",
       "      <th>Spending Score (1-100)</th>\n",
       "      <th>Profession</th>\n",
       "      <th>Work Experience</th>\n",
       "      <th>Family Size</th>\n",
       "    </tr>\n",
       "  </thead>\n",
       "  <tbody>\n",
       "    <tr>\n",
       "      <th>0</th>\n",
       "      <td>1</td>\n",
       "      <td>Male</td>\n",
       "      <td>19</td>\n",
       "      <td>15000</td>\n",
       "      <td>39</td>\n",
       "      <td>Healthcare</td>\n",
       "      <td>1</td>\n",
       "      <td>4</td>\n",
       "    </tr>\n",
       "    <tr>\n",
       "      <th>1</th>\n",
       "      <td>2</td>\n",
       "      <td>Male</td>\n",
       "      <td>21</td>\n",
       "      <td>35000</td>\n",
       "      <td>81</td>\n",
       "      <td>Engineer</td>\n",
       "      <td>3</td>\n",
       "      <td>3</td>\n",
       "    </tr>\n",
       "    <tr>\n",
       "      <th>2</th>\n",
       "      <td>3</td>\n",
       "      <td>Female</td>\n",
       "      <td>20</td>\n",
       "      <td>86000</td>\n",
       "      <td>6</td>\n",
       "      <td>Engineer</td>\n",
       "      <td>1</td>\n",
       "      <td>1</td>\n",
       "    </tr>\n",
       "    <tr>\n",
       "      <th>3</th>\n",
       "      <td>4</td>\n",
       "      <td>Female</td>\n",
       "      <td>23</td>\n",
       "      <td>59000</td>\n",
       "      <td>77</td>\n",
       "      <td>Lawyer</td>\n",
       "      <td>0</td>\n",
       "      <td>2</td>\n",
       "    </tr>\n",
       "    <tr>\n",
       "      <th>4</th>\n",
       "      <td>5</td>\n",
       "      <td>Female</td>\n",
       "      <td>31</td>\n",
       "      <td>38000</td>\n",
       "      <td>40</td>\n",
       "      <td>Entertainment</td>\n",
       "      <td>2</td>\n",
       "      <td>6</td>\n",
       "    </tr>\n",
       "  </tbody>\n",
       "</table>\n",
       "</div>"
      ]
     },
     "execution_count": 3,
     "metadata": {},
     "output_type": "execute_result"
    }
   ],
   "execution_count": 3
  },
  {
   "metadata": {
    "ExecuteTime": {
     "end_time": "2025-01-16T09:49:06.651182Z",
     "start_time": "2025-01-16T09:49:06.628840Z"
    }
   },
   "cell_type": "code",
   "source": [
    "# b) Find Shape of Data\n",
    "df.shape"
   ],
   "id": "5707dea4809a57f4",
   "outputs": [
    {
     "data": {
      "text/plain": [
       "(2000, 8)"
      ]
     },
     "execution_count": 4,
     "metadata": {},
     "output_type": "execute_result"
    }
   ],
   "execution_count": 4
  },
  {
   "metadata": {
    "ExecuteTime": {
     "end_time": "2025-01-16T09:49:27.244376Z",
     "start_time": "2025-01-16T09:49:27.230346Z"
    }
   },
   "cell_type": "code",
   "source": [
    "# c) Find Missing Values\n",
    "df.isnull().sum()"
   ],
   "id": "343e9defb57b80e",
   "outputs": [
    {
     "data": {
      "text/plain": [
       "CustomerID                 0\n",
       "Gender                     0\n",
       "Age                        0\n",
       "Annual Income ($)          0\n",
       "Spending Score (1-100)     0\n",
       "Profession                35\n",
       "Work Experience            0\n",
       "Family Size                0\n",
       "dtype: int64"
      ]
     },
     "execution_count": 5,
     "metadata": {},
     "output_type": "execute_result"
    }
   ],
   "execution_count": 5
  },
  {
   "metadata": {
    "ExecuteTime": {
     "end_time": "2025-01-16T09:49:48.852606Z",
     "start_time": "2025-01-16T09:49:48.828538Z"
    }
   },
   "cell_type": "code",
   "source": [
    "# d) Find data type of each column\n",
    "df.info()"
   ],
   "id": "363cca2870e63022",
   "outputs": [
    {
     "name": "stdout",
     "output_type": "stream",
     "text": [
      "<class 'pandas.core.frame.DataFrame'>\n",
      "RangeIndex: 2000 entries, 0 to 1999\n",
      "Data columns (total 8 columns):\n",
      " #   Column                  Non-Null Count  Dtype \n",
      "---  ------                  --------------  ----- \n",
      " 0   CustomerID              2000 non-null   int64 \n",
      " 1   Gender                  2000 non-null   object\n",
      " 2   Age                     2000 non-null   int64 \n",
      " 3   Annual Income ($)       2000 non-null   int64 \n",
      " 4   Spending Score (1-100)  2000 non-null   int64 \n",
      " 5   Profession              1965 non-null   object\n",
      " 6   Work Experience         2000 non-null   int64 \n",
      " 7   Family Size             2000 non-null   int64 \n",
      "dtypes: int64(6), object(2)\n",
      "memory usage: 125.1+ KB\n"
     ]
    }
   ],
   "execution_count": 7
  },
  {
   "metadata": {},
   "cell_type": "code",
   "outputs": [],
   "execution_count": null,
   "source": [
    "# e) Finding out Zero's\n",
    "df.isnull().sum()"
   ],
   "id": "25933e31ced1949"
  },
  {
   "metadata": {
    "ExecuteTime": {
     "end_time": "2025-01-16T09:51:50.555324Z",
     "start_time": "2025-01-16T09:51:50.541326Z"
    }
   },
   "cell_type": "code",
   "source": [
    "# f) Indexing and selecting data, sort data\n",
    "\n",
    "# a) Indexing\n",
    "df.iloc[4]"
   ],
   "id": "71c96df29bb0ac95",
   "outputs": [
    {
     "data": {
      "text/plain": [
       "CustomerID                            5\n",
       "Gender                           Female\n",
       "Age                                  31\n",
       "Annual Income ($)                 38000\n",
       "Spending Score (1-100)               40\n",
       "Profession                Entertainment\n",
       "Work Experience                       2\n",
       "Family Size                           6\n",
       "Name: 4, dtype: object"
      ]
     },
     "execution_count": 8,
     "metadata": {},
     "output_type": "execute_result"
    }
   ],
   "execution_count": 8
  },
  {
   "metadata": {
    "ExecuteTime": {
     "end_time": "2025-01-16T09:54:24.626978Z",
     "start_time": "2025-01-16T09:54:24.610642Z"
    }
   },
   "cell_type": "code",
   "source": [
    "# b) Selecting\n",
    "df[[\"Age\",\"Gender\",\"Profession\"]]"
   ],
   "id": "7812c5cbbb2a3d4c",
   "outputs": [
    {
     "data": {
      "text/plain": [
       "      Age  Gender     Profession\n",
       "0      19    Male     Healthcare\n",
       "1      21    Male       Engineer\n",
       "2      20  Female       Engineer\n",
       "3      23  Female         Lawyer\n",
       "4      31  Female  Entertainment\n",
       "...   ...     ...            ...\n",
       "1995   71  Female         Artist\n",
       "1996   91  Female         Doctor\n",
       "1997   87    Male     Healthcare\n",
       "1998   77    Male      Executive\n",
       "1999   90    Male  Entertainment\n",
       "\n",
       "[2000 rows x 3 columns]"
      ],
      "text/html": [
       "<div>\n",
       "<style scoped>\n",
       "    .dataframe tbody tr th:only-of-type {\n",
       "        vertical-align: middle;\n",
       "    }\n",
       "\n",
       "    .dataframe tbody tr th {\n",
       "        vertical-align: top;\n",
       "    }\n",
       "\n",
       "    .dataframe thead th {\n",
       "        text-align: right;\n",
       "    }\n",
       "</style>\n",
       "<table border=\"1\" class=\"dataframe\">\n",
       "  <thead>\n",
       "    <tr style=\"text-align: right;\">\n",
       "      <th></th>\n",
       "      <th>Age</th>\n",
       "      <th>Gender</th>\n",
       "      <th>Profession</th>\n",
       "    </tr>\n",
       "  </thead>\n",
       "  <tbody>\n",
       "    <tr>\n",
       "      <th>0</th>\n",
       "      <td>19</td>\n",
       "      <td>Male</td>\n",
       "      <td>Healthcare</td>\n",
       "    </tr>\n",
       "    <tr>\n",
       "      <th>1</th>\n",
       "      <td>21</td>\n",
       "      <td>Male</td>\n",
       "      <td>Engineer</td>\n",
       "    </tr>\n",
       "    <tr>\n",
       "      <th>2</th>\n",
       "      <td>20</td>\n",
       "      <td>Female</td>\n",
       "      <td>Engineer</td>\n",
       "    </tr>\n",
       "    <tr>\n",
       "      <th>3</th>\n",
       "      <td>23</td>\n",
       "      <td>Female</td>\n",
       "      <td>Lawyer</td>\n",
       "    </tr>\n",
       "    <tr>\n",
       "      <th>4</th>\n",
       "      <td>31</td>\n",
       "      <td>Female</td>\n",
       "      <td>Entertainment</td>\n",
       "    </tr>\n",
       "    <tr>\n",
       "      <th>...</th>\n",
       "      <td>...</td>\n",
       "      <td>...</td>\n",
       "      <td>...</td>\n",
       "    </tr>\n",
       "    <tr>\n",
       "      <th>1995</th>\n",
       "      <td>71</td>\n",
       "      <td>Female</td>\n",
       "      <td>Artist</td>\n",
       "    </tr>\n",
       "    <tr>\n",
       "      <th>1996</th>\n",
       "      <td>91</td>\n",
       "      <td>Female</td>\n",
       "      <td>Doctor</td>\n",
       "    </tr>\n",
       "    <tr>\n",
       "      <th>1997</th>\n",
       "      <td>87</td>\n",
       "      <td>Male</td>\n",
       "      <td>Healthcare</td>\n",
       "    </tr>\n",
       "    <tr>\n",
       "      <th>1998</th>\n",
       "      <td>77</td>\n",
       "      <td>Male</td>\n",
       "      <td>Executive</td>\n",
       "    </tr>\n",
       "    <tr>\n",
       "      <th>1999</th>\n",
       "      <td>90</td>\n",
       "      <td>Male</td>\n",
       "      <td>Entertainment</td>\n",
       "    </tr>\n",
       "  </tbody>\n",
       "</table>\n",
       "<p>2000 rows × 3 columns</p>\n",
       "</div>"
      ]
     },
     "execution_count": 9,
     "metadata": {},
     "output_type": "execute_result"
    }
   ],
   "execution_count": 9
  },
  {
   "metadata": {
    "ExecuteTime": {
     "end_time": "2025-01-16T09:55:44.985532Z",
     "start_time": "2025-01-16T09:55:44.966376Z"
    }
   },
   "cell_type": "code",
   "source": [
    "# c) Sorting\n",
    "df.sort_values(by=\"Age\", ascending=False)"
   ],
   "id": "e4f6371f71189885",
   "outputs": [
    {
     "data": {
      "text/plain": [
       "      CustomerID  Gender  Age  Annual Income ($)  Spending Score (1-100)  \\\n",
       "1103        1104  Female   99             103706                      50   \n",
       "1524        1525  Female   99             150782                      18   \n",
       "1629        1630    Male   99             162762                      52   \n",
       "361          362    Male   99              63364                      61   \n",
       "1322        1323  Female   99             144176                      74   \n",
       "...          ...     ...  ...                ...                     ...   \n",
       "1271        1272  Female    0              61228                      81   \n",
       "559          560    Male    0             151298                      89   \n",
       "1583        1584  Female    0             120899                       7   \n",
       "211          212  Female    0              22000                      92   \n",
       "1248        1249  Female    0             143082                      63   \n",
       "\n",
       "         Profession  Work Experience  Family Size  \n",
       "1103  Entertainment                1            2  \n",
       "1524      Executive                8            2  \n",
       "1629     Healthcare                1            1  \n",
       "361   Entertainment                1            2  \n",
       "1322      Marketing                7            2  \n",
       "...             ...              ...          ...  \n",
       "1271  Entertainment                1            6  \n",
       "559          Artist                0            6  \n",
       "1583      Marketing                2            6  \n",
       "211          Artist                2            1  \n",
       "1248  Entertainment                0            7  \n",
       "\n",
       "[2000 rows x 8 columns]"
      ],
      "text/html": [
       "<div>\n",
       "<style scoped>\n",
       "    .dataframe tbody tr th:only-of-type {\n",
       "        vertical-align: middle;\n",
       "    }\n",
       "\n",
       "    .dataframe tbody tr th {\n",
       "        vertical-align: top;\n",
       "    }\n",
       "\n",
       "    .dataframe thead th {\n",
       "        text-align: right;\n",
       "    }\n",
       "</style>\n",
       "<table border=\"1\" class=\"dataframe\">\n",
       "  <thead>\n",
       "    <tr style=\"text-align: right;\">\n",
       "      <th></th>\n",
       "      <th>CustomerID</th>\n",
       "      <th>Gender</th>\n",
       "      <th>Age</th>\n",
       "      <th>Annual Income ($)</th>\n",
       "      <th>Spending Score (1-100)</th>\n",
       "      <th>Profession</th>\n",
       "      <th>Work Experience</th>\n",
       "      <th>Family Size</th>\n",
       "    </tr>\n",
       "  </thead>\n",
       "  <tbody>\n",
       "    <tr>\n",
       "      <th>1103</th>\n",
       "      <td>1104</td>\n",
       "      <td>Female</td>\n",
       "      <td>99</td>\n",
       "      <td>103706</td>\n",
       "      <td>50</td>\n",
       "      <td>Entertainment</td>\n",
       "      <td>1</td>\n",
       "      <td>2</td>\n",
       "    </tr>\n",
       "    <tr>\n",
       "      <th>1524</th>\n",
       "      <td>1525</td>\n",
       "      <td>Female</td>\n",
       "      <td>99</td>\n",
       "      <td>150782</td>\n",
       "      <td>18</td>\n",
       "      <td>Executive</td>\n",
       "      <td>8</td>\n",
       "      <td>2</td>\n",
       "    </tr>\n",
       "    <tr>\n",
       "      <th>1629</th>\n",
       "      <td>1630</td>\n",
       "      <td>Male</td>\n",
       "      <td>99</td>\n",
       "      <td>162762</td>\n",
       "      <td>52</td>\n",
       "      <td>Healthcare</td>\n",
       "      <td>1</td>\n",
       "      <td>1</td>\n",
       "    </tr>\n",
       "    <tr>\n",
       "      <th>361</th>\n",
       "      <td>362</td>\n",
       "      <td>Male</td>\n",
       "      <td>99</td>\n",
       "      <td>63364</td>\n",
       "      <td>61</td>\n",
       "      <td>Entertainment</td>\n",
       "      <td>1</td>\n",
       "      <td>2</td>\n",
       "    </tr>\n",
       "    <tr>\n",
       "      <th>1322</th>\n",
       "      <td>1323</td>\n",
       "      <td>Female</td>\n",
       "      <td>99</td>\n",
       "      <td>144176</td>\n",
       "      <td>74</td>\n",
       "      <td>Marketing</td>\n",
       "      <td>7</td>\n",
       "      <td>2</td>\n",
       "    </tr>\n",
       "    <tr>\n",
       "      <th>...</th>\n",
       "      <td>...</td>\n",
       "      <td>...</td>\n",
       "      <td>...</td>\n",
       "      <td>...</td>\n",
       "      <td>...</td>\n",
       "      <td>...</td>\n",
       "      <td>...</td>\n",
       "      <td>...</td>\n",
       "    </tr>\n",
       "    <tr>\n",
       "      <th>1271</th>\n",
       "      <td>1272</td>\n",
       "      <td>Female</td>\n",
       "      <td>0</td>\n",
       "      <td>61228</td>\n",
       "      <td>81</td>\n",
       "      <td>Entertainment</td>\n",
       "      <td>1</td>\n",
       "      <td>6</td>\n",
       "    </tr>\n",
       "    <tr>\n",
       "      <th>559</th>\n",
       "      <td>560</td>\n",
       "      <td>Male</td>\n",
       "      <td>0</td>\n",
       "      <td>151298</td>\n",
       "      <td>89</td>\n",
       "      <td>Artist</td>\n",
       "      <td>0</td>\n",
       "      <td>6</td>\n",
       "    </tr>\n",
       "    <tr>\n",
       "      <th>1583</th>\n",
       "      <td>1584</td>\n",
       "      <td>Female</td>\n",
       "      <td>0</td>\n",
       "      <td>120899</td>\n",
       "      <td>7</td>\n",
       "      <td>Marketing</td>\n",
       "      <td>2</td>\n",
       "      <td>6</td>\n",
       "    </tr>\n",
       "    <tr>\n",
       "      <th>211</th>\n",
       "      <td>212</td>\n",
       "      <td>Female</td>\n",
       "      <td>0</td>\n",
       "      <td>22000</td>\n",
       "      <td>92</td>\n",
       "      <td>Artist</td>\n",
       "      <td>2</td>\n",
       "      <td>1</td>\n",
       "    </tr>\n",
       "    <tr>\n",
       "      <th>1248</th>\n",
       "      <td>1249</td>\n",
       "      <td>Female</td>\n",
       "      <td>0</td>\n",
       "      <td>143082</td>\n",
       "      <td>63</td>\n",
       "      <td>Entertainment</td>\n",
       "      <td>0</td>\n",
       "      <td>7</td>\n",
       "    </tr>\n",
       "  </tbody>\n",
       "</table>\n",
       "<p>2000 rows × 8 columns</p>\n",
       "</div>"
      ]
     },
     "execution_count": 10,
     "metadata": {},
     "output_type": "execute_result"
    }
   ],
   "execution_count": 10
  },
  {
   "metadata": {
    "ExecuteTime": {
     "end_time": "2025-01-16T09:56:02.451100Z",
     "start_time": "2025-01-16T09:56:02.423014Z"
    }
   },
   "cell_type": "code",
   "source": [
    "# g) Describe attributes of data, checking data types of each column\n",
    "df.describe()"
   ],
   "id": "806fd85048f37f4b",
   "outputs": [
    {
     "data": {
      "text/plain": [
       "        CustomerID          Age  Annual Income ($)  Spending Score (1-100)  \\\n",
       "count  2000.000000  2000.000000        2000.000000             2000.000000   \n",
       "mean   1000.500000    48.960000      110731.821500               50.962500   \n",
       "std     577.494589    28.429747       45739.536688               27.934661   \n",
       "min       1.000000     0.000000           0.000000                0.000000   \n",
       "25%     500.750000    25.000000       74572.000000               28.000000   \n",
       "50%    1000.500000    48.000000      110045.000000               50.000000   \n",
       "75%    1500.250000    73.000000      149092.750000               75.000000   \n",
       "max    2000.000000    99.000000      189974.000000              100.000000   \n",
       "\n",
       "       Work Experience  Family Size  \n",
       "count      2000.000000  2000.000000  \n",
       "mean          4.102500     3.768500  \n",
       "std           3.922204     1.970749  \n",
       "min           0.000000     1.000000  \n",
       "25%           1.000000     2.000000  \n",
       "50%           3.000000     4.000000  \n",
       "75%           7.000000     5.000000  \n",
       "max          17.000000     9.000000  "
      ],
      "text/html": [
       "<div>\n",
       "<style scoped>\n",
       "    .dataframe tbody tr th:only-of-type {\n",
       "        vertical-align: middle;\n",
       "    }\n",
       "\n",
       "    .dataframe tbody tr th {\n",
       "        vertical-align: top;\n",
       "    }\n",
       "\n",
       "    .dataframe thead th {\n",
       "        text-align: right;\n",
       "    }\n",
       "</style>\n",
       "<table border=\"1\" class=\"dataframe\">\n",
       "  <thead>\n",
       "    <tr style=\"text-align: right;\">\n",
       "      <th></th>\n",
       "      <th>CustomerID</th>\n",
       "      <th>Age</th>\n",
       "      <th>Annual Income ($)</th>\n",
       "      <th>Spending Score (1-100)</th>\n",
       "      <th>Work Experience</th>\n",
       "      <th>Family Size</th>\n",
       "    </tr>\n",
       "  </thead>\n",
       "  <tbody>\n",
       "    <tr>\n",
       "      <th>count</th>\n",
       "      <td>2000.000000</td>\n",
       "      <td>2000.000000</td>\n",
       "      <td>2000.000000</td>\n",
       "      <td>2000.000000</td>\n",
       "      <td>2000.000000</td>\n",
       "      <td>2000.000000</td>\n",
       "    </tr>\n",
       "    <tr>\n",
       "      <th>mean</th>\n",
       "      <td>1000.500000</td>\n",
       "      <td>48.960000</td>\n",
       "      <td>110731.821500</td>\n",
       "      <td>50.962500</td>\n",
       "      <td>4.102500</td>\n",
       "      <td>3.768500</td>\n",
       "    </tr>\n",
       "    <tr>\n",
       "      <th>std</th>\n",
       "      <td>577.494589</td>\n",
       "      <td>28.429747</td>\n",
       "      <td>45739.536688</td>\n",
       "      <td>27.934661</td>\n",
       "      <td>3.922204</td>\n",
       "      <td>1.970749</td>\n",
       "    </tr>\n",
       "    <tr>\n",
       "      <th>min</th>\n",
       "      <td>1.000000</td>\n",
       "      <td>0.000000</td>\n",
       "      <td>0.000000</td>\n",
       "      <td>0.000000</td>\n",
       "      <td>0.000000</td>\n",
       "      <td>1.000000</td>\n",
       "    </tr>\n",
       "    <tr>\n",
       "      <th>25%</th>\n",
       "      <td>500.750000</td>\n",
       "      <td>25.000000</td>\n",
       "      <td>74572.000000</td>\n",
       "      <td>28.000000</td>\n",
       "      <td>1.000000</td>\n",
       "      <td>2.000000</td>\n",
       "    </tr>\n",
       "    <tr>\n",
       "      <th>50%</th>\n",
       "      <td>1000.500000</td>\n",
       "      <td>48.000000</td>\n",
       "      <td>110045.000000</td>\n",
       "      <td>50.000000</td>\n",
       "      <td>3.000000</td>\n",
       "      <td>4.000000</td>\n",
       "    </tr>\n",
       "    <tr>\n",
       "      <th>75%</th>\n",
       "      <td>1500.250000</td>\n",
       "      <td>73.000000</td>\n",
       "      <td>149092.750000</td>\n",
       "      <td>75.000000</td>\n",
       "      <td>7.000000</td>\n",
       "      <td>5.000000</td>\n",
       "    </tr>\n",
       "    <tr>\n",
       "      <th>max</th>\n",
       "      <td>2000.000000</td>\n",
       "      <td>99.000000</td>\n",
       "      <td>189974.000000</td>\n",
       "      <td>100.000000</td>\n",
       "      <td>17.000000</td>\n",
       "      <td>9.000000</td>\n",
       "    </tr>\n",
       "  </tbody>\n",
       "</table>\n",
       "</div>"
      ]
     },
     "execution_count": 11,
     "metadata": {},
     "output_type": "execute_result"
    }
   ],
   "execution_count": 11
  },
  {
   "metadata": {
    "ExecuteTime": {
     "end_time": "2025-01-16T09:58:01.268469Z",
     "start_time": "2025-01-16T09:58:01.249853Z"
    }
   },
   "cell_type": "code",
   "source": "df.info()",
   "id": "aea94e81644906e5",
   "outputs": [
    {
     "name": "stdout",
     "output_type": "stream",
     "text": [
      "<class 'pandas.core.frame.DataFrame'>\n",
      "RangeIndex: 2000 entries, 0 to 1999\n",
      "Data columns (total 8 columns):\n",
      " #   Column                  Non-Null Count  Dtype \n",
      "---  ------                  --------------  ----- \n",
      " 0   CustomerID              2000 non-null   int64 \n",
      " 1   Gender                  2000 non-null   object\n",
      " 2   Age                     2000 non-null   int64 \n",
      " 3   Annual Income ($)       2000 non-null   int64 \n",
      " 4   Spending Score (1-100)  2000 non-null   int64 \n",
      " 5   Profession              1965 non-null   object\n",
      " 6   Work Experience         2000 non-null   int64 \n",
      " 7   Family Size             2000 non-null   int64 \n",
      "dtypes: int64(6), object(2)\n",
      "memory usage: 125.1+ KB\n"
     ]
    }
   ],
   "execution_count": 16
  },
  {
   "metadata": {
    "ExecuteTime": {
     "end_time": "2025-01-16T09:57:23.270456Z",
     "start_time": "2025-01-16T09:57:23.249624Z"
    }
   },
   "cell_type": "code",
   "source": "df.value_counts()",
   "id": "3ba6ed754fc1d864",
   "outputs": [
    {
     "data": {
      "text/plain": [
       "CustomerID  Gender  Age  Annual Income ($)  Spending Score (1-100)  Profession     Work Experience  Family Size\n",
       "1           Male    19   15000              39                      Healthcare     1                4              1\n",
       "1346        Male    36   75178              41                      Entertainment  1                7              1\n",
       "1344        Female  82   157994             92                      Artist         1                1              1\n",
       "1343        Female  45   114741             96                      Artist         0                5              1\n",
       "1342        Male    38   76103              62                      Executive      9                3              1\n",
       "                                                                                                                  ..\n",
       "662         Male    53   148759             52                      Doctor         7                7              1\n",
       "661         Male    49   81084              48                      Executive      6                5              1\n",
       "660         Male    49   106633             53                      Artist         0                3              1\n",
       "659         Female  31   189446             38                      Artist         1                6              1\n",
       "2000        Male    90   110610             52                      Entertainment  5                2              1\n",
       "Name: count, Length: 1965, dtype: int64"
      ]
     },
     "execution_count": 14,
     "metadata": {},
     "output_type": "execute_result"
    }
   ],
   "execution_count": 14
  },
  {
   "metadata": {
    "ExecuteTime": {
     "end_time": "2025-01-16T09:57:40.716703Z",
     "start_time": "2025-01-16T09:57:40.695151Z"
    }
   },
   "cell_type": "code",
   "source": "df.value_counts().sum()",
   "id": "31e4bd52e25e0f2c",
   "outputs": [
    {
     "data": {
      "text/plain": [
       "1965"
      ]
     },
     "execution_count": 15,
     "metadata": {},
     "output_type": "execute_result"
    }
   ],
   "execution_count": 15
  },
  {
   "metadata": {},
   "cell_type": "code",
   "outputs": [],
   "execution_count": null,
   "source": "",
   "id": "895388834d6d4f47"
  }
 ],
 "metadata": {
  "kernelspec": {
   "display_name": "Python 3",
   "language": "python",
   "name": "python3"
  },
  "language_info": {
   "codemirror_mode": {
    "name": "ipython",
    "version": 2
   },
   "file_extension": ".py",
   "mimetype": "text/x-python",
   "name": "python",
   "nbconvert_exporter": "python",
   "pygments_lexer": "ipython2",
   "version": "2.7.6"
  }
 },
 "nbformat": 4,
 "nbformat_minor": 5
}
